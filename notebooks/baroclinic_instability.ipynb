{
  "cells": [
    {
      "cell_type": "code",
      "execution_count": null,
      "metadata": {
        "id": "rWrbLo9ag82k"
      },
      "outputs": [],
      "source": [
        "#@title Imports {form-width: \"30%\"}\n",
        "import functools\n",
        "import dinosaur\n",
        "import jax\n",
        "import numpy as np\n",
        "import matplotlib.pyplot as plt\n",
        "import xarray"
      ]
    },
    {
      "cell_type": "markdown",
      "metadata": {
        "id": "Oyq5ggIK70dy"
      },
      "source": [
        "# Atmosphere at rest"
      ]
    },
    {
      "cell_type": "code",
      "execution_count": null,
      "metadata": {
        "id": "uceb2ox6iACR"
      },
      "outputs": [],
      "source": [
        "#@title setting up the grids for the primitive equations\n",
        "units = dinosaur.scales.units\n",
        "layers = 26\n",
        "grid = dinosaur.spherical_harmonic.Grid.T85()\n",
        "vertical_grid = dinosaur.sigma_coordinates.SigmaCoordinates.equidistant(layers)\n",
        "coords = dinosaur.coordinate_systems.CoordinateSystem(grid, vertical_grid)\n",
        "physics_specs = dinosaur.primitive_equations.PrimitiveEquationsSpecs.from_si()\n",
        "\n",
        "initial_state_fn, aux_features = dinosaur.primitive_equations_states.steady_state_jw(\n",
        "    coords, physics_specs)\n",
        "steady_state = initial_state_fn()\n",
        "ref_temps = aux_features[dinosaur.xarray_utils.REF_TEMP_KEY]\n",
        "orography = dinosaur.primitive_equations.truncated_modal_orography(\n",
        "    aux_features[dinosaur.xarray_utils.OROGRAPHY], coords)\n",
        "\n",
        "\n",
        "def dimensionalize(x: xarray.DataArray, unit: units.Unit) -\u003e xarray.DataArray:\n",
        "  \"\"\"Dimensionalizes `xarray.DataArray`s.\"\"\"\n",
        "  dimensionalize = functools.partial(physics_specs.dimensionalize, unit=unit)\n",
        "  return xarray.apply_ufunc(dimensionalize, x)"
      ]
    },
    {
      "cell_type": "markdown",
      "metadata": {
        "id": "iJRVa_pKq8sf"
      },
      "source": [
        "## Visualization of the initial state"
      ]
    },
    {
      "cell_type": "code",
      "execution_count": null,
      "metadata": {
        "id": "hhh-yauKvubU"
      },
      "outputs": [],
      "source": [
        "#@test {\"skip\": true}\n",
        "\n",
        "steady_state_dict, _ = dinosaur.pytree_utils.as_dict(steady_state)\n",
        "u, v = dinosaur.spherical_harmonic.vor_div_to_uv_nodal(\n",
        "    grid, steady_state.vorticity, steady_state.divergence)\n",
        "steady_state_dict.update({'u': u, 'v': v, 'z_surf': orography})\n",
        "nodal_steady_state_fields = dinosaur.coordinate_systems.maybe_to_nodal(\n",
        "    steady_state_dict, coords=coords)\n",
        "initial_state_ds = dinosaur.xarray_utils.data_to_xarray(\n",
        "    nodal_steady_state_fields, coords=coords, times=None)\n",
        "\n",
        "temperature = dinosaur.xarray_utils.temperature_variation_to_absolute(\n",
        "    initial_state_ds.temperature_variation.data, ref_temps)\n",
        "initial_state_ds = initial_state_ds.assign(\n",
        "    temperature=(initial_state_ds.temperature_variation.dims, temperature))"
      ]
    },
    {
      "cell_type": "code",
      "execution_count": null,
      "metadata": {
        "id": "IGHz7c_Yfg41"
      },
      "outputs": [],
      "source": [
        "#@title Surface geopotential\n",
        "#@test {\"skip\": true}\n",
        "phi = initial_state_ds['z_surf'] * physics_specs.g\n",
        "phi_si = dimensionalize(phi, units.m ** 2 / units.s ** 2)\n",
        "phi_si.isel(lon=0).plot(x='lat');"
      ]
    },
    {
      "cell_type": "code",
      "execution_count": null,
      "metadata": {
        "id": "AB3REAP_5Q-4"
      },
      "outputs": [],
      "source": [
        "#@title Zonal wind\n",
        "#@test {\"skip\": true}\n",
        "u_array = initial_state_ds['u']\n",
        "u_array_si = dimensionalize(u_array, units.m / units.s)\n",
        "levels = [3 * i for i in range(1, 12)]\n",
        "u_array_si.isel(lon=0).plot.contour(x='lat', y='level', levels=levels)\n",
        "ax = plt.gca()\n",
        "ax.set_ylim((1, 0));"
      ]
    },
    {
      "cell_type": "code",
      "execution_count": null,
      "metadata": {
        "id": "WIv24uMM5Vm3"
      },
      "outputs": [],
      "source": [
        "#@title Temperature\n",
        "#@test {\"skip\": true}\n",
        "t_array = initial_state_ds['temperature']\n",
        "t_array_si = dimensionalize(t_array, units.degK)\n",
        "levels = np.linspace(210, 305, 1 + (305 - 210) // 5)\n",
        "t_array_si.isel(lon=0).plot.contour(x='lat', y='level', levels=levels)\n",
        "ax = plt.gca()\n",
        "ax.set_ylim((1, 0));"
      ]
    },
    {
      "cell_type": "code",
      "execution_count": null,
      "metadata": {
        "id": "dN-tRJkD-vCk"
      },
      "outputs": [],
      "source": [
        "#@title Relative vorticity\n",
        "#@test {\"skip\": true}\n",
        "voriticty_array = initial_state_ds['vorticity']\n",
        "voriticty_array_si = dimensionalize(voriticty_array, 1 / units.s)\n",
        "levels = np.linspace(-1.75e-5, 1.75e-5, 15)\n",
        "voriticty_array_si.isel(lon=0).plot.contour(x='lat', y='level', levels=levels)\n",
        "ax = plt.gca()\n",
        "ax.set_ylim((1, 0));"
      ]
    },
    {
      "cell_type": "markdown",
      "metadata": {
        "id": "43P-qz2Cpd9T"
      },
      "source": [
        "# Initializing the state and running a model forward"
      ]
    },
    {
      "cell_type": "code",
      "execution_count": null,
      "metadata": {
        "id": "9AAm_2fYiV-M"
      },
      "outputs": [],
      "source": [
        "#@title Primitive equations model setup\n",
        "primitive = dinosaur.primitive_equations.PrimitiveEquations(\n",
        "    ref_temps, orography, coords, physics_specs)\n",
        "dt_s = 100 * units.s\n",
        "dt = physics_specs.nondimensionalize(dt_s)\n",
        "step_fn = dinosaur.time_integration.imex_rk_sil3(primitive, dt)"
      ]
    },
    {
      "cell_type": "markdown",
      "metadata": {
        "id": "j0hbzcC33f8m"
      },
      "source": [
        "## Integration of steady state in time"
      ]
    },
    {
      "cell_type": "code",
      "execution_count": null,
      "metadata": {
        "id": "W9v6oZUkkLvD"
      },
      "outputs": [],
      "source": [
        "save_every = 2 * units.hour\n",
        "total_time = 1 * units.week\n",
        "inner_steps = int(save_every / dt_s)\n",
        "outer_steps = int(total_time / save_every)\n",
        "filters = [dinosaur.time_integration.exponential_step_filter(grid, dt),]\n",
        "step_fn = dinosaur.time_integration.step_with_filters(step_fn, filters)\n",
        "integrate_fn = dinosaur.time_integration.trajectory_from_step(\n",
        "    step_fn, outer_steps, inner_steps)\n",
        "integrate_fn = jax.jit(integrate_fn)"
      ]
    },
    {
      "cell_type": "code",
      "execution_count": null,
      "metadata": {
        "id": "ORFKiSEXhn6_"
      },
      "outputs": [],
      "source": [
        "#@test {\"skip\": true}\n",
        "%time final, trajectory = jax.block_until_ready(integrate_fn(steady_state))"
      ]
    },
    {
      "cell_type": "code",
      "execution_count": null,
      "metadata": {
        "id": "ZXGIp9dbp12_"
      },
      "outputs": [],
      "source": [
        "#@test {\"skip\": true}\n",
        "trajectory = jax.device_get(trajectory)\n",
        "times = save_every * np.arange(outer_steps)\n",
        "\n",
        "trajectory_dict, _ = dinosaur.pytree_utils.as_dict(trajectory)\n",
        "u, v = dinosaur.spherical_harmonic.vor_div_to_uv_nodal(\n",
        "    grid, trajectory.vorticity, trajectory.divergence)\n",
        "trajectory_dict.update({'u': u, 'v': v})\n",
        "nodal_trajectory_fields = dinosaur.coordinate_systems.maybe_to_nodal(\n",
        "    trajectory_dict, coords=coords)\n",
        "trajectory_ds = dinosaur.xarray_utils.data_to_xarray(\n",
        "    nodal_trajectory_fields, coords=coords, times=times)\n",
        "\n",
        "trajectory_ds['surface_pressure'] = np.exp(trajectory_ds.log_surface_pressure[:, 0, :,:])\n",
        "temperature = dinosaur.xarray_utils.temperature_variation_to_absolute(\n",
        "    trajectory_ds.temperature_variation.data, ref_temps)\n",
        "trajectory_ds = trajectory_ds.assign(\n",
        "    temperature=(trajectory_ds.temperature_variation.dims, temperature))"
      ]
    },
    {
      "cell_type": "markdown",
      "metadata": {
        "id": "UFW5Caw_Swhl"
      },
      "source": [
        "### Vorticity dynamics"
      ]
    },
    {
      "cell_type": "code",
      "execution_count": null,
      "metadata": {
        "id": "nauSKNXvSyeO"
      },
      "outputs": [],
      "source": [
        "#@title vorticity\n",
        "#@test {\"skip\": true}\n",
        "data_array = trajectory_ds['vorticity']\n",
        "\n",
        "data_array.isel(lon=0).thin(time=12).plot.contour(x='lat', y='level', col='time')\n",
        "ax = plt.gca()\n",
        "ax.set_ylim((1, 0));"
      ]
    },
    {
      "cell_type": "markdown",
      "metadata": {
        "id": "SuGhndV1TOnP"
      },
      "source": [
        "### Pressure dynamics"
      ]
    },
    {
      "cell_type": "code",
      "execution_count": null,
      "metadata": {
        "id": "2vT1idSBRDMU"
      },
      "outputs": [],
      "source": [
        "#@title Normalized log(surface pressure), should remain constant\n",
        "#@test {\"skip\": true}\n",
        "data_array = (trajectory_ds['surface_pressure'] /\n",
        "              physics_specs.nondimensionalize(1e5 * units.pascal))\n",
        "data_array.max(['lon']).plot(x='time', hue='lat')\n",
        "ax = plt.gca()\n",
        "ax.legend().remove()"
      ]
    },
    {
      "cell_type": "markdown",
      "metadata": {
        "id": "llmAf7ufVBFD"
      },
      "source": [
        "### Temperature dynamics"
      ]
    },
    {
      "cell_type": "code",
      "execution_count": null,
      "metadata": {
        "id": "mrWAUISORIwF"
      },
      "outputs": [],
      "source": [
        "#@title Temperature ()\n",
        "#@test {\"skip\": true}\n",
        "t_array = trajectory_ds['temperature']\n",
        "t_array_si = dimensionalize(t_array, units.degK)\n",
        "levels = np.linspace(210, 305, 1 + (305 - 210) // 5)\n",
        "t_array_si.isel(lon=0).thin(time=12).plot.contour(\n",
        "    x='lat', y='level', levels=levels, col='time')\n",
        "ax = plt.gca()\n",
        "ax.set_ylim((1, 0));"
      ]
    },
    {
      "cell_type": "markdown",
      "metadata": {
        "id": "GK6rFGqiVC7M"
      },
      "source": [
        "### Divergence"
      ]
    },
    {
      "cell_type": "code",
      "execution_count": null,
      "metadata": {
        "id": "8wzP7p_VWV5p"
      },
      "outputs": [],
      "source": [
        "#@title Mean divergence, should remain low; (0 is the exact value)\n",
        "#@test {\"skip\": true}\n",
        "data_array = trajectory_ds['divergence']\n",
        "data_array.mean(['lat', 'lon']).plot(x='time', hue='level')\n",
        "ax = plt.gca()\n",
        "ax.legend().remove();"
      ]
    },
    {
      "cell_type": "markdown",
      "metadata": {
        "id": "Dl1mqq6NqlWv"
      },
      "source": [
        "# Initiating instability"
      ]
    },
    {
      "cell_type": "code",
      "execution_count": null,
      "metadata": {
        "id": "vu7ScN48glQm"
      },
      "outputs": [],
      "source": [
        "perturbation = dinosaur.primitive_equations_states.baroclinic_perturbation_jw(\n",
        "    coords, physics_specs)\n",
        "state = steady_state + perturbation"
      ]
    },
    {
      "cell_type": "code",
      "execution_count": null,
      "metadata": {
        "id": "YRg8kIHqxve0"
      },
      "outputs": [],
      "source": [
        "save_every = 2 * units.hour\n",
        "total_time = 2 * units.week\n",
        "inner_steps = int(save_every / dt_s)\n",
        "outer_steps = int(total_time / save_every)\n",
        "integrate_fn = dinosaur.time_integration.trajectory_from_step(\n",
        "    step_fn, outer_steps, inner_steps)\n",
        "integrate_fn = jax.jit(integrate_fn)"
      ]
    },
    {
      "cell_type": "code",
      "execution_count": null,
      "metadata": {
        "id": "EcwNclHvynSj"
      },
      "outputs": [],
      "source": [
        "#@test {\"skip\": true}\n",
        "%time final, trajectory = jax.block_until_ready(integrate_fn(state))"
      ]
    },
    {
      "cell_type": "code",
      "execution_count": null,
      "metadata": {
        "id": "sIsBfo7yrl55"
      },
      "outputs": [],
      "source": [
        "#@test {\"skip\": true}\n",
        "trajectory = jax.device_get(trajectory)\n",
        "times = (save_every * np.arange(outer_steps)).to(units.s)\n",
        "\n",
        "trajectory_dict, _ = dinosaur.pytree_utils.as_dict(trajectory)\n",
        "u, v = dinosaur.spherical_harmonic.vor_div_to_uv_nodal(\n",
        "    grid, trajectory.vorticity, trajectory.divergence)\n",
        "trajectory_dict.update({'u': u, 'v': v})\n",
        "nodal_trajectory_fields = dinosaur.coordinate_systems.maybe_to_nodal(\n",
        "    trajectory_dict, coords=coords)\n",
        "trajectory_ds = dinosaur.xarray_utils.data_to_xarray(\n",
        "    nodal_trajectory_fields, coords=coords, times=times)\n",
        "\n",
        "trajectory_ds['surface_pressure'] = np.exp(trajectory_ds.log_surface_pressure[:, 0, :,:])\n",
        "temperature = dinosaur.xarray_utils.temperature_variation_to_absolute(\n",
        "    trajectory_ds.temperature_variation.data, ref_temps)\n",
        "trajectory_ds = trajectory_ds.assign(\n",
        "    temperature=(trajectory_ds.temperature_variation.dims, temperature))"
      ]
    },
    {
      "cell_type": "code",
      "execution_count": null,
      "metadata": {
        "id": "gwPSvn4prPvo"
      },
      "outputs": [],
      "source": [
        "#@title Contour plots of log-surface pressure at 4/6 days {form-width: \"30%\"}\n",
        "#@test {\"skip\": true}\n",
        "data_array = (trajectory_ds['surface_pressure'] /\n",
        "              physics_specs.nondimensionalize(1e5 * units.pascal))\n",
        "levels = [(992 + 2 * i) / 1000 for i in range(8)]\n",
        "\n",
        "data_array.sel(\n",
        "    {'lat': slice(0, 90),\n",
        "     'lon': slice(45, 360),\n",
        "     'time': [(4 * units.day).to(units.s).m,\n",
        "               (6 * units.day).to(units.s).m],}\n",
        "     ).plot.contourf(\n",
        "         x='lon', y='lat', row='time', levels=levels, cmap=plt.cm.Spectral_r)\n",
        "\n",
        "fig = plt.gcf()\n",
        "fig.set_figwidth(10)"
      ]
    },
    {
      "cell_type": "code",
      "execution_count": null,
      "metadata": {
        "id": "iyWUpf6NkN-S"
      },
      "outputs": [],
      "source": [
        "#@title Contour plots of log-surface pressure at 8 and 10 days\n",
        "#@test {\"skip\": true}\n",
        "data_array = (trajectory_ds['surface_pressure'] /\n",
        "              physics_specs.nondimensionalize(1e5 * units.pascal))\n",
        "levels = [(930 + 10 * i) / 1000 for i in range(10)]\n",
        "\n",
        "(data_array.sel({'lat': slice(0, 90),\n",
        "                 'lon': slice(45, 360),\n",
        "                 'time': [(8 * units.day).to(units.s).m,\n",
        "                           (10 * units.day).to(units.s).m]})\n",
        "           .plot.contourf(x='lon',\n",
        "                          y='lat',\n",
        "                          row='time',\n",
        "                          levels=levels,\n",
        "                          cmap=plt.cm.Spectral_r))\n",
        "\n",
        "fig = plt.gcf()\n",
        "fig.set_figwidth(10)"
      ]
    },
    {
      "cell_type": "code",
      "execution_count": null,
      "metadata": {
        "id": "W7llFZTFkSt7"
      },
      "outputs": [],
      "source": [
        "#@title Temperature at days 4, 6, 8, 10 (note we do not interpolate to exactly 850hPa)\n",
        "#@test {\"skip\": true}\n",
        "temp_array = trajectory_ds['temperature']\n",
        "levels = [(220 + 10 * i) for i in range(10)]\n",
        "target_pressure = 0.85 * physics_specs.nondimensionalize(1e5 * units.pascal)  # TODO: add interpolation\n",
        "\n",
        "(temp_array.sel({'lat': slice(0, 90),\n",
        "                 'lon': slice(45, 360),\n",
        "                 'time': [(4 * units.day).to(units.s).m,\n",
        "                           (6 * units.day).to(units.s).m,\n",
        "                           (8 * units.day).to(units.s).m,\n",
        "                           (10 * units.day).to(units.s).m]})\n",
        "           .isel(level=22)\n",
        "           .plot.contourf(x='lon',\n",
        "                          y='lat',\n",
        "                          row='time',\n",
        "                          levels=levels,\n",
        "                          cmap=plt.cm.Spectral_r))\n",
        "fig = plt.gcf()\n",
        "fig.set_figwidth(12)"
      ]
    },
    {
      "cell_type": "code",
      "execution_count": null,
      "metadata": {
        "id": "5kHE2mCckZLb"
      },
      "outputs": [],
      "source": [
        "#@title Vorticity features\n",
        "#@test {\"skip\": true}\n",
        "voriticty_array = trajectory_ds['vorticity']\n",
        "target_pressure = 0.85 * physics_specs.nondimensionalize(1e5 * units.pascal)  # TODO: add interpolation\n",
        "voriticty_array_si = dimensionalize(voriticty_array, 1/ units.s)\n",
        "\n",
        "fig, (ax1, ax2) = plt.subplots(1, 2, figsize=(20, 5))\n",
        "\n",
        "levels = [-3e-5 + 1e-5 * i for i in range(10)]\n",
        "(voriticty_array_si.sel({'lat': slice(25, 75),\n",
        "                         'lon': slice(90, 210),\n",
        "                         'time': (7 * units.day).to(units.s).m})\n",
        "                   .isel(level=22)\n",
        "                   .plot.contourf(x='lon',\n",
        "                                  y='lat',\n",
        "                                  levels=levels,\n",
        "                                  ax=ax1))\n",
        "\n",
        "levels = [-10e-5 + 5e-5 * i for i in range(11)]\n",
        "(voriticty_array_si.sel({'lat': slice(25, 75),\n",
        "                         'lon': slice(120, 270),\n",
        "                         'time': (9 * units.day).to(units.s).m})\n",
        "                   .isel(level=22)\n",
        "                   .plot.contourf(x='lon',\n",
        "                                  y='lat',\n",
        "                                  levels=levels,\n",
        "                                  ax=ax2))\n",
        "fig.set_figwidth(25)"
      ]
    },
    {
      "cell_type": "code",
      "execution_count": null,
      "metadata": {
        "id": "RXGDtGpOkh8m"
      },
      "outputs": [],
      "source": [
        "#@test {\"skip\": true}\n",
        "# Daily vertical slices of temperature.\n",
        "times = np.cast[np.int32]((np.arange(12) * units.day).to(units.second))\n",
        "data = (temp_array.sel(lat=slice(54, 56),\n",
        "                lon=slice(120, 270),\n",
        "                time=times)\n",
        "            .isel(lat=0))\n",
        "data.attrs['units'] = 'seconds'\n",
        "data.plot.contourf(x='lon', y='level', row='time',\n",
        "                           aspect=2, col_wrap=3);\n"
      ]
    },
    {
      "cell_type": "code",
      "execution_count": null,
      "metadata": {
        "id": "YomjjMlmHY4M"
      },
      "outputs": [],
      "source": []
    }
  ],
  "metadata": {
    "colab": {
      "last_runtime": {
        "build_target": "//research/simulation/whirl/cfd/notebooks:notebook",
        "kind": "private"
      },
      "name": "dinosaur_baroclinic_test_case.ipynb",
      "private_outputs": true,
      "provenance": [
        {
          "file_id": "/piper/depot/google3/research/simulation/whirl/gcm/notebooks/baroclinic_instability.ipynb",
          "timestamp": 1671119821226
        },
        {
          "file_id": "1t7Ic-95Vf5ioLDKTRxTVZCp1f1g8mCOu",
          "timestamp": 1644009151541
        },
        {
          "file_id": "1_XgiHKCa7sNRWpVB0gF0XnoFzwBFbE5h",
          "timestamp": 1643904706705
        }
      ]
    },
    "kernelspec": {
      "display_name": "Python 3",
      "name": "python3"
    },
    "language_info": {
      "name": "python"
    }
  },
  "nbformat": 4,
  "nbformat_minor": 0
}
